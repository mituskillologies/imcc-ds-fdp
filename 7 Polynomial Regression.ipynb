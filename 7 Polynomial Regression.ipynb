{
 "cells": [
  {
   "cell_type": "code",
   "execution_count": 2,
   "id": "fcae9f0b",
   "metadata": {},
   "outputs": [],
   "source": [
    "import pandas as pd\n",
    "import numpy as np\n",
    "import matplotlib.pyplot as plt"
   ]
  },
  {
   "cell_type": "code",
   "execution_count": 3,
   "id": "897022fc",
   "metadata": {},
   "outputs": [],
   "source": [
    "x = np.arange(0,10,0.25)"
   ]
  },
  {
   "cell_type": "code",
   "execution_count": 4,
   "id": "52774806",
   "metadata": {},
   "outputs": [
    {
     "data": {
      "text/plain": [
       "array([0.  , 0.25, 0.5 , 0.75, 1.  , 1.25, 1.5 , 1.75, 2.  , 2.25, 2.5 ,\n",
       "       2.75, 3.  , 3.25, 3.5 , 3.75, 4.  , 4.25, 4.5 , 4.75, 5.  , 5.25,\n",
       "       5.5 , 5.75, 6.  , 6.25, 6.5 , 6.75, 7.  , 7.25, 7.5 , 7.75, 8.  ,\n",
       "       8.25, 8.5 , 8.75, 9.  , 9.25, 9.5 , 9.75])"
      ]
     },
     "execution_count": 4,
     "metadata": {},
     "output_type": "execute_result"
    }
   ],
   "source": [
    "x"
   ]
  },
  {
   "cell_type": "code",
   "execution_count": 6,
   "id": "e7c9530e",
   "metadata": {},
   "outputs": [],
   "source": [
    "y = x * 3.9 + 16.56"
   ]
  },
  {
   "cell_type": "code",
   "execution_count": 7,
   "id": "ddbdf2b8",
   "metadata": {},
   "outputs": [
    {
     "data": {
      "text/plain": [
       "[<matplotlib.lines.Line2D at 0x7f35c1f44700>]"
      ]
     },
     "execution_count": 7,
     "metadata": {},
     "output_type": "execute_result"
    },
    {
     "data": {
      "image/png": "[encoded data removed]",
      "text/plain": [
       "<Figure size 432x288 with 1 Axes>"
      ]
     },
     "metadata": {
      "needs_background": "light"
     },
     "output_type": "display_data"
    }
   ],
   "source": [
    "plt.plot(x,y)"
   ]
  },
  {
   "cell_type": "code",
   "execution_count": 8,
   "id": "99d0ea7d",
   "metadata": {},
   "outputs": [],
   "source": [
    "y = x ** 2 + 45.89"
   ]
  },
  {
   "cell_type": "code",
   "execution_count": 9,
   "id": "998efca7",
   "metadata": {},
   "outputs": [
    {
     "data": {
      "text/plain": [
       "[<matplotlib.lines.Line2D at 0x7f35bfe33af0>]"
      ]
     },
     "execution_count": 9,
     "metadata": {},
     "output_type": "execute_result"
    },
    {
     "data": {
      "image/png": "[encoded data removed]",
      "text/plain": [
       "<Figure size 432x288 with 1 Axes>"
      ]
     },
     "metadata": {
      "needs_background": "light"
     },
     "output_type": "display_data"
    }
   ],
   "source": [
    "plt.plot(x, y)"
   ]
  },
  {
   "cell_type": "code",
   "execution_count": 10,
   "id": "9c92062c",
   "metadata": {},
   "outputs": [],
   "source": [
    "df = pd.read_csv('datasets/Salary_Data.csv')\n",
    "x = df[['YearsExperience']] # input\n",
    "y = df['Salary']  # output"
   ]
  },
  {
   "cell_type": "code",
   "execution_count": 11,
   "id": "2a5b23f7",
   "metadata": {},
   "outputs": [
    {
     "name": "stdout",
     "output_type": "stream",
     "text": [
      "Accuracy: 0.9569566641435086\n"
     ]
    }
   ],
   "source": [
    "from sklearn.linear_model import LinearRegression\n",
    "regressor = LinearRegression()\n",
    "regressor.fit(x,y)\n",
    "print('Accuracy:', regressor.score(x,y))"
   ]
  },
  {
   "cell_type": "markdown",
   "id": "61dff2f6",
   "metadata": {},
   "source": [
    "##### polynomial transformation"
   ]
  },
  {
   "cell_type": "code",
   "execution_count": 27,
   "id": "93587162",
   "metadata": {},
   "outputs": [],
   "source": [
    "from sklearn.preprocessing import PolynomialFeatures\n",
    "poly = PolynomialFeatures(degree=8)\n",
    "x_poly = poly.fit_transform(x)"
   ]
  },
  {
   "cell_type": "code",
   "execution_count": 28,
   "id": "6bb62163",
   "metadata": {},
   "outputs": [],
   "source": [
    "x_poly;"
   ]
  },
  {
   "cell_type": "code",
   "execution_count": 29,
   "id": "7b89c68b",
   "metadata": {},
   "outputs": [
    {
     "data": {
      "text/plain": [
       "LinearRegression()"
      ]
     },
     "execution_count": 29,
     "metadata": {},
     "output_type": "execute_result"
    }
   ],
   "source": [
    "regressor.fit(x_poly, y)"
   ]
  },
  {
   "cell_type": "code",
   "execution_count": 30,
   "id": "13d0b765",
   "metadata": {},
   "outputs": [
    {
     "data": {
      "text/plain": [
       "0.9728154307144676"
      ]
     },
     "execution_count": 30,
     "metadata": {},
     "output_type": "execute_result"
    }
   ],
   "source": [
    "regressor.score(x_poly, y)"
   ]
  },
  {
   "cell_type": "code",
   "execution_count": 31,
   "id": "e5b76dea",
   "metadata": {},
   "outputs": [],
   "source": [
    "y_pred = regressor.predict(x_poly)"
   ]
  },
  {
   "cell_type": "code",
   "execution_count": 33,
   "id": "5e10df0d",
   "metadata": {},
   "outputs": [
    {
     "data": {
      "text/plain": [
       "<matplotlib.collections.PathCollection at 0x7f35b165e9d0>"
      ]
     },
     "execution_count": 33,
     "metadata": {},
     "output_type": "execute_result"
    },
    {
     "data": {
      "image/png": "[encoded data removed]",
      "text/plain": [
       "<Figure size 432x288 with 1 Axes>"
      ]
     },
     "metadata": {
      "needs_background": "light"
     },
     "output_type": "display_data"
    }
   ],
   "source": [
    "plt.scatter(x,y, color='red')\n",
    "plt.scatter(x, y_pred)"
   ]
  },
  {
   "cell_type": "code",
   "execution_count": 37,
   "id": "0371f40e",
   "metadata": {},
   "outputs": [
    {
     "name": "stderr",
     "output_type": "stream",
     "text": [
      "/home/mitu/.local/lib/python3.8/site-packages/sklearn/base.py:450: UserWarning: X does not have valid feature names, but PolynomialFeatures was fitted with feature names\n",
      "  warnings.warn(\n"
     ]
    },
    {
     "data": {
      "text/plain": [
       "array([5588879.67864948])"
      ]
     },
     "execution_count": 37,
     "metadata": {},
     "output_type": "execute_result"
    }
   ],
   "source": [
    "year = 15\n",
    "year = poly.transform([[year]])\n",
    "regressor.predict(year)"
   ]
  },
  {
   "cell_type": "code",
   "execution_count": null,
   "id": "f300cc86",
   "metadata": {},
   "outputs": [],
   "source": []
  }
 ],
 "metadata": {
  "kernelspec": {
   "display_name": "Python 3",
   "language": "python",
   "name": "python3"
  },
  "language_info": {
   "codemirror_mode": {
    "name": "ipython",
    "version": 3
   },
   "file_extension": ".py",
   "mimetype": "text/x-python",
   "name": "python",
   "nbconvert_exporter": "python",
   "pygments_lexer": "ipython3",
   "version": "3.8.10"
  }
 },
 "nbformat": 4,
 "nbformat_minor": 5
}
